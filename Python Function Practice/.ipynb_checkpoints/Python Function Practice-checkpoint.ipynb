{
 "cells": [
  {
   "cell_type": "markdown",
   "id": "595feb99-73c8-4662-b373-dbd4803fd294",
   "metadata": {},
   "source": [
    "# Python Function Practice"
   ]
  },
  {
   "cell_type": "markdown",
   "id": "fa308c8d-1a04-418a-81c4-34a0fa866bf9",
   "metadata": {},
   "source": [
    "## WarmpUp Section"
   ]
  },
  {
   "cell_type": "markdown",
   "id": "d52a53d1-6829-42ce-b411-d65cf97165f1",
   "metadata": {},
   "source": [
    "------------------------------------------------------------------------------------------------------\n",
    "LESSER OF TWO EVENS: Write a function that returns the lesser of two given numbers if both numbers are even, but returns the greater if one or both numbers are odd\n",
    "\n",
    "> lesser_of_two_evens(2,4) →  2  \n",
    "lesser_of_two_evens(2,5) →  5"
   ]
  },
  {
   "cell_type": "code",
   "execution_count": 4,
   "id": "43ae9128-24a4-4525-95c8-6269608f6fae",
   "metadata": {},
   "outputs": [
    {
     "name": "stdout",
     "output_type": "stream",
     "text": [
      "5\n"
     ]
    }
   ],
   "source": [
    "def lesser_of_two_evens(a,b):\n",
    "\n",
    "    if a%2==0 and b%2==0:\n",
    "        return min(a,b)\n",
    "    else:\n",
    "        return max(a,b)\n",
    "\n",
    "res = lesser_of_two_evens(4,5)\n",
    "print(res)"
   ]
  },
  {
   "cell_type": "markdown",
   "id": "b2c92df3-6133-4102-95d8-ba5d15f01d66",
   "metadata": {},
   "source": [
    "------------------------------------------------------------------------------------------------------\n",
    "ANIMAL CRACKERS: Write a function takes a two-word string and returns True if both words begin with same letter\n",
    "\n",
    "> animal_crackers('Levelheaded Llama') → True  \n",
    "animal_crackers('Crazy Kangaroo') → False\n"
   ]
  },
  {
   "cell_type": "code",
   "execution_count": 6,
   "id": "eecfc997-cfcb-4b2d-b86a-ad00eaaa31b9",
   "metadata": {},
   "outputs": [
    {
     "data": {
      "text/plain": [
       "False"
      ]
     },
     "execution_count": 6,
     "metadata": {},
     "output_type": "execute_result"
    }
   ],
   "source": [
    "string = 'Hello Qallo'\n",
    "\n",
    "def animal_cracker(text):\n",
    "  word = text.split()\n",
    "\n",
    "  if word[0][0].lower() == word[1][0].lower():\n",
    "    return True\n",
    "  else:\n",
    "    return False\n",
    "\n",
    "animal_cracker(string)"
   ]
  },
  {
   "cell_type": "markdown",
   "id": "95d4b006-455c-4ca5-809c-e18a19b40220",
   "metadata": {},
   "source": [
    "------------------------------------------------------------------------------------------------------\n",
    "MAKES TWENTY: Given two integers, return True if the sum of the integers is 20 or if one of the integers is 20. If not, return False\n",
    "\n",
    "> makes_twenty(20,10) → True  \n",
    "makes_twenty(12,8) → True  \n",
    "makes_twenty(2,3) → False\n"
   ]
  },
  {
   "cell_type": "code",
   "execution_count": 8,
   "id": "4744b424-4be8-442a-b07c-6a0b20874021",
   "metadata": {},
   "outputs": [
    {
     "name": "stdout",
     "output_type": "stream",
     "text": [
      "-3\n"
     ]
    }
   ],
   "source": [
    "def other_side_of_seven(num):\n",
    "\n",
    "  difference = (abs(num - 7) * 2)\n",
    "\n",
    "  if num > 7:\n",
    "    num = 7 - difference\n",
    "  else:\n",
    "    num = 7 + difference\n",
    "\n",
    "  return num\n",
    "\n",
    "new = other_side_of_seven(12)\n",
    "\n",
    "print(new)"
   ]
  },
  {
   "cell_type": "markdown",
   "id": "2f3d11c3-8ce9-4e0f-aaf5-34c28c018f3d",
   "metadata": {},
   "source": [
    "## Level 1 problems"
   ]
  },
  {
   "cell_type": "markdown",
   "id": "cdaea0c4-a672-4809-bfd3-f06917ce71c6",
   "metadata": {},
   "source": [
    "------------------------------------------------------------------------------------------------------\n",
    "OLD MACDONALD: Write a function that capitalizes the first and fourth letters of a name\n",
    "  \n",
    "> old_macdonald('macdonald') → MacDonald"
   ]
  },
  {
   "cell_type": "code",
   "execution_count": 9,
   "id": "5c2d5146-c873-4449-82b3-41b275f16802",
   "metadata": {},
   "outputs": [
    {
     "name": "stdout",
     "output_type": "stream",
     "text": [
      "MacDonalds\n"
     ]
    }
   ],
   "source": [
    "string = \"macdonalds\"\n",
    "\n",
    "def old_macdonald(name):\n",
    "\n",
    "  if name != name.capitalize():\n",
    "    name = name.capitalize()\n",
    "\n",
    "  new_string = \"\"\n",
    "\n",
    "  for index, letter in enumerate(name):\n",
    "    if index == 3:\n",
    "      new_string += letter.upper()\n",
    "    else:\n",
    "      new_string += letter\n",
    "\n",
    "  return new_string\n",
    "\n",
    "name = old_macdonald(string)\n",
    "\n",
    "print(name)\n",
    "\n"
   ]
  },
  {
   "cell_type": "markdown",
   "id": "9ca3c82b-f058-402d-aacf-11122b750313",
   "metadata": {},
   "source": [
    "------------------------------------------------------------------------------------------------------\n",
    "MASTER YODA: Given a sentence, return a sentence with the words reversed\n",
    "  \n",
    "> master_yoda('I am home') --> 'home am I'  \n",
    "  master_yoda('We are ready') --> 'ready are We'"
   ]
  },
  {
   "cell_type": "code",
   "execution_count": 11,
   "id": "22bc0cf1-00b0-40a0-8a9a-aa6873491bf4",
   "metadata": {},
   "outputs": [
    {
     "name": "stdout",
     "output_type": "stream",
     "text": [
      "['strong', 'am', 'I']\n"
     ]
    }
   ],
   "source": [
    "string = \"I am strong\"\n",
    "\n",
    "def master_yoda(text):\n",
    "  words = text.split()\n",
    "  reversed = words[::-1]\n",
    "\n",
    "  return reversed\n",
    "\n",
    "rev = master_yoda(string)\n",
    "print(rev)"
   ]
  },
  {
   "cell_type": "markdown",
   "id": "5843d6d9-bffe-483b-b0af-01b2fe781c46",
   "metadata": {},
   "source": [
    "------------------------------------------------------------------------------------------------------\n",
    "ALMOST THERE: Given an integer n, return True if n is within 10 of either 100 or 200\n",
    "  \n",
    "> almost_there(90) --> True  \n",
    "almost_there(104) --> True  \n",
    "almost_there(150) --> False  \n",
    "almost_there(209) --> True"
   ]
  },
  {
   "cell_type": "code",
   "execution_count": 12,
   "id": "9db526d9-f611-44c2-9054-ceb3e5fe348a",
   "metadata": {},
   "outputs": [
    {
     "data": {
      "text/plain": [
       "True"
      ]
     },
     "execution_count": 12,
     "metadata": {},
     "output_type": "execute_result"
    }
   ],
   "source": [
    "def almost_there(num):\n",
    "\n",
    "  if num in range(90,111) or num in range(190,211):\n",
    "    return True\n",
    "  else:\n",
    "    return False\n",
    "\n",
    "almost_there(200)"
   ]
  },
  {
   "cell_type": "markdown",
   "id": "c372a933-15c8-4a47-bbfb-b4d6c3a0c691",
   "metadata": {},
   "source": [
    "## Level 2 Problems"
   ]
  },
  {
   "cell_type": "markdown",
   "id": "8f67ef3f-91ee-44a1-81f3-12da456b665d",
   "metadata": {},
   "source": [
    "------------------------------------------------------------------------------------------------------\n",
    "FIND 33: Given a list of ints, return True if the array contains a 3 next to a 3 somewhere.\n",
    "  \n",
    "> has_33([1, 3, 3]) → True  \n",
    "has_33([1, 3, 1, 3]) → False  \n",
    "has_33([3, 1, 3]) → False"
   ]
  },
  {
   "cell_type": "code",
   "execution_count": 13,
   "id": "be059663-37e1-4737-910d-1a8a82aa5f10",
   "metadata": {},
   "outputs": [
    {
     "data": {
      "text/plain": [
       "True"
      ]
     },
     "execution_count": 13,
     "metadata": {},
     "output_type": "execute_result"
    }
   ],
   "source": [
    "def has_33(lists):\n",
    "  three = 0\n",
    "  ret = False\n",
    "  for num in lists:\n",
    "    if num == 3 and three == 0:\n",
    "      three = num\n",
    "    else:\n",
    "      if three != num:\n",
    "        three = 0\n",
    "      else:\n",
    "        ret = True\n",
    "\n",
    "  return ret\n",
    "\n",
    "has_33([1,1,1,12,3,2,3,3])"
   ]
  },
  {
   "cell_type": "markdown",
   "id": "6aaef519-2f88-4d54-9a2e-140bed717368",
   "metadata": {},
   "source": [
    "------------------------------------------------------------------------------------------------------\n",
    "PAPER DOLL: Given a string, return a string where for every character in the original there are three characters\n",
    "  \n",
    "> paper_doll('Hello') --> 'HHHeeellllllooo'  \n",
    "paper_doll('Mississippi') --> 'MMMiiissssssiiippppppiii'"
   ]
  },
  {
   "cell_type": "code",
   "execution_count": 14,
   "id": "79a69e84-badf-4813-abec-b1fdf86026b6",
   "metadata": {},
   "outputs": [
    {
     "name": "stdout",
     "output_type": "stream",
     "text": [
      "hhheeellllllooo\n"
     ]
    }
   ],
   "source": [
    "def paper_doll(text):\n",
    "  triple = ''\n",
    "  for letter in text:\n",
    "    letter = letter * 3\n",
    "    triple += letter\n",
    "\n",
    "  return triple\n",
    "\n",
    "triple_word = paper_doll('hello')\n",
    "\n",
    "print(triple_word)"
   ]
  },
  {
   "cell_type": "markdown",
   "id": "17a9528d-6261-48bd-9a39-595e50bf9cef",
   "metadata": {},
   "source": [
    "------------------------------------------------------------------------------------------------------\n",
    "BLACKJACK: Given three integers between 1 and 11, if their sum is less than or equal to 21, return their sum. If their sum exceeds 21 and there's an eleven, reduce the total sum by 10. Finally, if the sum (even after adjustment) exceeds 21, return 'BUST'\n",
    "  \n",
    "> blackjack(5,6,7) --> 18  \n",
    "blackjack(9,9,9) --> 'BUST'  \n",
    "blackjack(9,9,11) --> 19"
   ]
  },
  {
   "cell_type": "code",
   "execution_count": 16,
   "id": "77c749b8-5b78-44dc-ab10-b73145587eff",
   "metadata": {},
   "outputs": [
    {
     "name": "stdout",
     "output_type": "stream",
     "text": [
      "33\n"
     ]
    },
    {
     "data": {
      "text/plain": [
       "'BUST'"
      ]
     },
     "execution_count": 16,
     "metadata": {},
     "output_type": "execute_result"
    }
   ],
   "source": [
    "def blackjack(a,b,c):\n",
    "  sum = a + b + c\n",
    "  print(sum)\n",
    "\n",
    "  if sum <= 21:\n",
    "    return sum\n",
    "  else:\n",
    "    sum = sum -10\n",
    "\n",
    "    if sum > 21:\n",
    "      return 'BUST'\n",
    "\n",
    "    return sum\n",
    "\n",
    "blackjack(9,9,15)"
   ]
  },
  {
   "cell_type": "markdown",
   "id": "42f28617-cba3-48ab-98c3-c8e833f444f5",
   "metadata": {},
   "source": [
    "------------------------------------------------------------------------------------------------------\n",
    "SUMMER OF '69: Return the sum of the numbers in the array, except ignore sections of numbers starting with a 6 and extending to the next 9 (every 6 will be followed by at least one 9). Return 0 for no numbers.\n",
    "  \n",
    "> summer_69([1, 3, 5]) --> 9  \n",
    "summer_69([4, 5, 6, 7, 8, 9]) --> 9  \n",
    "summer_69([2, 1, 6, 9, 11]) --> 14"
   ]
  },
  {
   "cell_type": "code",
   "execution_count": 17,
   "id": "c6fa6103-742b-48eb-b863-2bf00310341e",
   "metadata": {},
   "outputs": [
    {
     "name": "stdout",
     "output_type": "stream",
     "text": [
      "9\n"
     ]
    }
   ],
   "source": [
    "def summer_69(arr):\n",
    "  sum = 0\n",
    "  flag = 0\n",
    "\n",
    "  if arr == 0:\n",
    "    return 0\n",
    "  else:\n",
    "    for num in arr:\n",
    "      if num == 6 or flag == 1:\n",
    "        if num == 9:\n",
    "          flag = 0\n",
    "        else:\n",
    "          flag = 1\n",
    "      else:\n",
    "        sum += num\n",
    "\n",
    "  return sum\n",
    "\n",
    "sum = summer_69([4, 5, 6, 7, 8, 9])\n",
    "print(sum)"
   ]
  },
  {
   "cell_type": "markdown",
   "id": "88a335fd-2ad1-43b2-a9bc-72c04a028b64",
   "metadata": {},
   "source": [
    "## Challenging"
   ]
  },
  {
   "cell_type": "markdown",
   "id": "cb5c16eb-4f95-4e00-ad29-eef23faa7a6f",
   "metadata": {},
   "source": [
    "------------------------------------------------------------------------------------------------------\n",
    "SPY GAME: Write a function that takes in a list of integers and returns True if it contains 007 in order\n",
    "  \n",
    ">  spy_game([1,2,4,0,0,7,5]) --> True  \n",
    " spy_game([1,0,2,4,0,5,7]) --> True  \n",
    " spy_game([1,7,2,0,4,5,0]) --> False"
   ]
  },
  {
   "cell_type": "code",
   "execution_count": 18,
   "id": "1802ed49-b1c1-4b43-a4fd-ff3faef99027",
   "metadata": {},
   "outputs": [
    {
     "data": {
      "text/plain": [
       "True"
      ]
     },
     "execution_count": 18,
     "metadata": {},
     "output_type": "execute_result"
    }
   ],
   "source": [
    "def spy_game(nums):\n",
    "  code = [0,0,7]\n",
    "  idx = 0\n",
    "\n",
    "  for num in nums:\n",
    "    if num == code[idx]:\n",
    "      idx += 1\n",
    "\n",
    "      if idx == len(code):\n",
    "        return True\n",
    "\n",
    "  return False\n",
    "\n",
    "  print(string)\n",
    "\n",
    "spy_game([1,2,0,7,0,4,7,0,5])\n",
    "\n"
   ]
  },
  {
   "cell_type": "markdown",
   "id": "15fc83ae-4311-4307-9206-e78ddec2839a",
   "metadata": {},
   "source": [
    "------------------------------------------------------------------------------------------------------\n",
    "COUNT PRIMES: Write a function that returns the number of prime numbers that exist up to and including a given number\n",
    "  \n",
    "> count_primes(100) --> 25\n",
    "\n",
    "By convention, 0 and 1 are not prime."
   ]
  },
  {
   "cell_type": "code",
   "execution_count": 19,
   "id": "669718e1-cc24-40a6-9783-65c4a88bd701",
   "metadata": {},
   "outputs": [
    {
     "name": "stdout",
     "output_type": "stream",
     "text": [
      "25\n"
     ]
    }
   ],
   "source": [
    "def count_primes(num):\n",
    "  count = 0\n",
    "\n",
    "  for x in range(2,num + 1):\n",
    "    for y in range(2, int(x ** 0.5) + 1):\n",
    "      if x % y == 0:\n",
    "        break\n",
    "\n",
    "    else:\n",
    "      count += 1\n",
    "\n",
    "  return count\n",
    "\n",
    "counter = count_primes(100)\n",
    "print(counter)\n",
    "\n"
   ]
  },
  {
   "cell_type": "markdown",
   "id": "a247a6f2-22bf-43fe-b4e8-7b61eac5691c",
   "metadata": {},
   "source": [
    "------------------------------------------------------------------------------------------------------\n",
    "PRINT BIG: Write a function that takes in a single letter, and returns a 5x5 representation of that letter\n",
    "  \n",
    "print_big('a')  \n",
    "out:&nbsp;&nbsp;&nbsp;*  \n",
    "&nbsp;&nbsp;&nbsp;&nbsp;&nbsp;&nbsp;&nbsp;&nbsp;* &nbsp;*  \n",
    "&nbsp;&nbsp;&nbsp;&nbsp;&nbsp;&nbsp;&nbsp;*****  \n",
    "&nbsp;&nbsp;&nbsp;&nbsp;&nbsp;&nbsp;&nbsp;* &nbsp;&nbsp;&nbsp;*  \n",
    "&nbsp;&nbsp;&nbsp;&nbsp;&nbsp;&nbsp;&nbsp;* &nbsp;&nbsp;&nbsp;*\n"
   ]
  },
  {
   "cell_type": "code",
   "execution_count": 20,
   "id": "e4d3a0d3-6102-4c88-acdd-728033c8254a",
   "metadata": {},
   "outputs": [
    {
     "name": "stdout",
     "output_type": "stream",
     "text": [
      "**** \n",
      "*   *\n",
      "**** \n",
      "*   *\n",
      "**** \n"
     ]
    }
   ],
   "source": [
    "def print_big(letter):\n",
    "  pattern = {'A':['  *  ',\n",
    "                  ' * * ',\n",
    "                  '*****',\n",
    "                  '*   *',\n",
    "                  '*   *'],\n",
    "             'B':['**** ',\n",
    "                  '*   *',\n",
    "                  '**** ',\n",
    "                  '*   *',\n",
    "                  '**** '],\n",
    "             'C':[' ****',\n",
    "                  '*    ',\n",
    "                  '*    ',\n",
    "                  '*    ',\n",
    "                  ' ****']\n",
    "            }\n",
    "  letter = letter.upper()\n",
    "  if letter in pattern:\n",
    "    for char in pattern[letter]:\n",
    "      print(char)\n",
    "\n",
    "print_big('b')"
   ]
  },
  {
   "cell_type": "code",
   "execution_count": null,
   "id": "e8688a30-e93d-4038-b020-104b7368da87",
   "metadata": {},
   "outputs": [],
   "source": []
  }
 ],
 "metadata": {
  "kernelspec": {
   "display_name": "Python [conda env:base] *",
   "language": "python",
   "name": "conda-base-py"
  },
  "language_info": {
   "codemirror_mode": {
    "name": "ipython",
    "version": 3
   },
   "file_extension": ".py",
   "mimetype": "text/x-python",
   "name": "python",
   "nbconvert_exporter": "python",
   "pygments_lexer": "ipython3",
   "version": "3.13.5"
  }
 },
 "nbformat": 4,
 "nbformat_minor": 5
}
